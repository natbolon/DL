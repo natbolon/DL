{
 "cells": [
  {
   "cell_type": "code",
   "execution_count": 2,
   "metadata": {},
   "outputs": [],
   "source": [
    "import matplotlib.pyplot as plt\n",
    "import math\n",
    "\n",
    "import torch\n",
    "torch.set_grad_enabled(False)\n",
    "\n",
    "from Linear import Linear\n",
    "from Activation import Tanh, Relu, Sigmoid\n",
    "from Loss import LossMSE, CrossEntropy\n",
    "from Optimizers import Optimizers, Sgd, DecreaseSGD, Adam\n",
    "from Sequential import Sequential\n",
    "from data_generation import generate_disc_set, plot_disc\n",
    "from evalute_models import compute_number_error, evaluate_model, train_model"
   ]
  },
  {
   "cell_type": "code",
   "execution_count": 3,
   "metadata": {},
   "outputs": [],
   "source": [
    "    hidden_nb = 25\n",
    "    std = 0.1\n",
    "    eta = 3e-1\n",
    "    batch_size = 200\n",
    "    epochs_number = 1000"
   ]
  },
  {
   "cell_type": "code",
   "execution_count": 4,
   "metadata": {},
   "outputs": [
    {
     "name": "stdout",
     "output_type": "stream",
     "text": [
      "ATTENTION: PLOTS WILL NOT BE SHOWN. \n",
      "ALL OF THEM ARE STORED IN THE OUTPUT FOLDER\n",
      "Generate data\n"
     ]
    }
   ],
   "source": [
    "\n",
    "Sample_number = 1000\n",
    "\n",
    "print('Generate data')\n",
    "train_input, train_target = generate_disc_set(Sample_number)\n",
    "test_input, test_target = generate_disc_set(Sample_number)\n",
    "\n",
    "\n",
    "# Normalize data\n",
    "mu_d, std_d = train_input.mean(0), train_input.std(0)\n",
    "train_input.sub_(mu_d).div_(std_d)\n",
    "test_input.sub_(mu_d).div_(std_d)\n",
    "\n",
    "    \n",
    "    "
   ]
  },
  {
   "cell_type": "code",
   "execution_count": null,
   "metadata": {},
   "outputs": [
    {
     "name": "stdout",
     "output_type": "stream",
     "text": [
      " MOdel 0 Epochs 950. Loss: 0.02505\n",
      "Training Loss:  0.020023927092552185\n",
      "Training Number of errors:  9\n",
      "\n",
      "Test Loss:  0.06535156816244125\n",
      "Test Number of errors:  21\n",
      " MOdel 1 Epochs 950. Loss: 0.04844\n",
      "Training Loss:  0.00992871169000864\n",
      "Training Number of errors:  3\n",
      "\n",
      "Test Loss:  0.03403320536017418\n",
      "Test Number of errors:  14\n",
      " MOdel 2 Epochs 950. Loss: 0.01642\n",
      "Training Loss:  0.013965820893645287\n",
      "Training Number of errors:  7\n",
      "\n",
      "Test Loss:  0.05890136957168579\n",
      "Test Number of errors:  19\n",
      " MOdel 3 Epochs 950. Loss: 0.01490\n",
      "Training Loss:  0.006982422433793545\n",
      "Training Number of errors:  2\n",
      "\n",
      "Test Loss:  0.06044043228030205\n",
      "Test Number of errors:  23\n",
      " MOdel 4 Epochs 950. Loss: 0.01918\n",
      "Training Loss:  0.005439453292638063\n",
      "Training Number of errors:  3\n",
      "\n",
      "Test Loss:  0.039439454674720764\n",
      "Test Number of errors:  15\n",
      " MOdel 5 Epochs 950. Loss: 0.02540\n",
      "Training Loss:  0.011448242701590061\n",
      "Training Number of errors:  3\n",
      "\n",
      "Test Loss:  0.04646484553813934\n",
      "Test Number of errors:  16\n",
      " MOdel 6 Epochs 950. Loss: 0.01688\n",
      "Training Loss:  0.013046875596046448\n",
      "Training Number of errors:  5\n",
      "\n",
      "Test Loss:  0.042762696743011475\n",
      "Test Number of errors:  15\n",
      " MOdel 7 Epochs 950. Loss: 0.00372\n",
      "Training Loss:  0.009091797284781933\n",
      "Training Number of errors:  3\n",
      "\n",
      "Test Loss:  0.045774415135383606\n",
      "Test Number of errors:  19\n",
      " MOdel 8 Epochs 950. Loss: 0.01198\n",
      "Training Loss:  0.008623047731816769\n",
      "Training Number of errors:  1\n",
      "\n",
      "Test Loss:  0.04909277707338333\n",
      "Test Number of errors:  22\n",
      " MOdel 9 Epochs 950. Loss: 0.02538\n",
      "Training Loss:  0.011230469681322575\n",
      "Training Number of errors:  3\n",
      "\n",
      "Test Loss:  0.03831055015325546\n",
      "Test Number of errors:  15\n",
      " MOdel 10 Epochs 600. Loss: 0.04510"
     ]
    }
   ],
   "source": [
    "for i in range(0, 40):\n",
    "    mname='Model4'\n",
    "\n",
    "    # Define structure of the network\n",
    "    dropout = 0.25\n",
    "    linear_1 = Linear(2, hidden_nb)\n",
    "    relu_1 = Relu()\n",
    "    linear_2 = Linear(hidden_nb, hidden_nb, dropout=dropout)\n",
    "    relu_2 = Relu()\n",
    "    linear_3 = Linear(hidden_nb, hidden_nb, dropout=dropout)\n",
    "    relu_3 = Relu()\n",
    "    linear_4 = Linear(hidden_nb, 2)\n",
    "\n",
    "    model = Sequential(linear_1, relu_1, linear_2, relu_2, linear_3, relu_3, linear_4, loss=CrossEntropy())\n",
    "\n",
    "    # Initialize weights\n",
    "    model.normalize_parameters(mean=0, std=std)\n",
    "    # Define optimizer\n",
    "    optimizer = Sgd(eta)\n",
    "\n",
    "    # Train model\n",
    "    my_loss = []\n",
    "    for epochs in range(0, epochs_number):\n",
    "        for b in range(0, Sample_number, batch_size):\n",
    "            # forward pass\n",
    "            output = model.forward(train_input.narrow(0, b, batch_size))\n",
    "            # evaluate loss\n",
    "            loss_value = model.compute_loss(output, train_target.narrow(0, b, batch_size))\n",
    "            # backward pass\n",
    "            model.backward()\n",
    "            \n",
    "            if math.isnan(loss_value.item()):\n",
    "                print(\"===================Nan Loss===================\")\n",
    "                print(\"Model: \", i)\n",
    "                print(\"epochs: \", epochs)\n",
    "                print(\"batch: \", b)\n",
    "                \n",
    "                print(linear_1.weight)\n",
    "                print(linear_2.weight)\n",
    "                print(linear_3.weight)\n",
    "                print(linear_4.weight)\n",
    "            \n",
    "            \n",
    "            # update parameters\n",
    "            if isinstance(optimizer, DecreaseSGD):\n",
    "                optimizer(epochs, model.sequence)\n",
    "            else:\n",
    "                optimizer(model.sequence)\n",
    "\n",
    "        if epochs % 50 == 0:\n",
    "            print(\"\\r MOdel {} Epochs {}. Loss: {:0.5f}\".format(i, epochs, loss_value.item()), end=\"\")\n",
    "        my_loss.append(loss_value.item())\n",
    "    my_loss_4 =  my_loss\n",
    "\n",
    "\n",
    "    # Evalute model and produce plots\n",
    "    model_4_perf = evaluate_model(model, train_input, train_target, test_input, test_target, my_loss_4, save_plot=True,  mname=mname)\n",
    "\n",
    "\n",
    "\n"
   ]
  },
  {
   "cell_type": "code",
   "execution_count": 22,
   "metadata": {},
   "outputs": [
    {
     "data": {
      "text/plain": [
       "tensor([0.2864, 0.2839])"
      ]
     },
     "execution_count": 22,
     "metadata": {},
     "output_type": "execute_result"
    }
   ],
   "source": []
  },
  {
   "cell_type": "code",
   "execution_count": 28,
   "metadata": {},
   "outputs": [
    {
     "name": "stdout",
     "output_type": "stream",
     "text": [
      "\n",
      "Training Loss:  0.02583007887005806\n",
      "Training Number of errors:  11\n",
      "\n",
      "Test Loss:  0.06339355558156967\n",
      "Test Number of errors:  21\n"
     ]
    }
   ],
   "source": [
    "    model_4_perf = evaluate_model(model, train_input, train_target, test_input, test_target, my_loss_4, save_plot=True,  mname=mname)\n"
   ]
  },
  {
   "cell_type": "code",
   "execution_count": null,
   "metadata": {},
   "outputs": [],
   "source": []
  }
 ],
 "metadata": {
  "kernelspec": {
   "display_name": "Python 3",
   "language": "python",
   "name": "python3"
  },
  "language_info": {
   "codemirror_mode": {
    "name": "ipython",
    "version": 3
   },
   "file_extension": ".py",
   "mimetype": "text/x-python",
   "name": "python",
   "nbconvert_exporter": "python",
   "pygments_lexer": "ipython3",
   "version": "3.7.2"
  }
 },
 "nbformat": 4,
 "nbformat_minor": 2
}
