{
 "cells": [
  {
   "cell_type": "code",
   "execution_count": 53,
   "metadata": {},
   "outputs": [],
   "source": [
    "import torch\n",
    "import dlc_practical_prologue as prologue\n",
    "from torch import nn\n",
    "from torch import optim\n",
    "import matplotlib.pyplot as plt #To remove (use matplotlib)\n",
    "from torch.nn import functional as F\n",
    "from torch.autograd import Variable\n",
    "\n",
    "import numpy as np"
   ]
  },
  {
   "cell_type": "code",
   "execution_count": 54,
   "metadata": {},
   "outputs": [],
   "source": [
    "def print_image(im):        #To remove (use matplotlib)\n",
    "    plt.imshow(im, cmap='gray')\n",
    "    plt.show()"
   ]
  },
  {
   "cell_type": "markdown",
   "metadata": {},
   "source": [
    "## Importing data"
   ]
  },
  {
   "cell_type": "code",
   "execution_count": 55,
   "metadata": {},
   "outputs": [],
   "source": [
    "def import_data(N, normalize):\n",
    "    train_input, train_target, train_classes, test_input, test_target, test_classes = prologue.generate_pair_sets(N)\n",
    "    if (normalize):\n",
    "        train_input = (train_input - train_input.mean())/train_input.std()\n",
    "        test_input = (test_input - train_input.mean())/train_input.std()\n",
    "    return (train_input, train_target, train_classes, test_input, test_target, test_classes)\n",
    "\n",
    "def make_one_hot(vector):\n",
    "    one_hot = torch.zeros(( vector.size(0) , int(vector.max())+1 ))\n",
    "    for i in range(0, vector.size(0)):\n",
    "        one_hot[i, vector[i]] = 1\n",
    "    return one_hot\n",
    "    "
   ]
  },
  {
   "cell_type": "code",
   "execution_count": 56,
   "metadata": {},
   "outputs": [
    {
     "name": "stdout",
     "output_type": "stream",
     "text": [
      "torch.Size([1000, 2, 14, 14])\n"
     ]
    }
   ],
   "source": [
    "N = 1000 #num\n",
    "train_input, train_target, train_classes, test_input, test_target, test_classes = import_data(N, True)\n",
    "train_target_one_hot = make_one_hot(train_target)\n",
    "test_target_one_hot = make_one_hot(test_target)\n",
    "train_classes_one_hot = make_one_hot(train_classes[:,0])\n",
    "test_classes_one_hot = make_one_hot(test_classes[:,0])\n",
    "\n",
    "\n",
    "print(train_input.size())"
   ]
  },
  {
   "cell_type": "code",
   "execution_count": 57,
   "metadata": {},
   "outputs": [
    {
     "data": {
      "image/png": "[encoded data removed]",
      "text/plain": [
       "<Figure size 432x288 with 1 Axes>"
      ]
     },
     "metadata": {
      "needs_background": "light"
     },
     "output_type": "display_data"
    }
   ],
   "source": [
    "print_image(train_input[364,0,:,:])\n",
    "\n",
    "#blub = make_one_hot(train_target)\n",
    "#blib = make_one_hot(train_classes[:,0])\n",
    "\n",
    "#print(blub)\n",
    "#print(blib)\n"
   ]
  },
  {
   "cell_type": "markdown",
   "metadata": {},
   "source": [
    "## Identifying Images and doing substraction (Aborter)"
   ]
  },
  {
   "cell_type": "code",
   "execution_count": 58,
   "metadata": {},
   "outputs": [],
   "source": [
    " \n",
    "    \n",
    "def compute_nb_errors(model, data_input, data_target):\n",
    "    mini_batch_size = 100\n",
    "    error = 0\n",
    "    for b in range(0, data_input.size(0), mini_batch_size):\n",
    "        output = model(data_input[b : b + mini_batch_size])\n",
    "        _, output = torch.max(output, dim = 1)\n",
    "        \n",
    "        if data_target.dim() == 2: #Switch from one hot to normal\n",
    "            _, target = torch.max(data_target[b : b + mini_batch_size], dim = 1)\n",
    "        else: \n",
    "            target = data_target[b : b + mini_batch_size]\n",
    "            \n",
    "        error += int( (output - target).abs().sum())\n",
    "    return( error )\n",
    "\n"
   ]
  },
  {
   "cell_type": "markdown",
   "metadata": {},
   "source": [
    "## Same network as Natalie: no auxiliary losses"
   ]
  },
  {
   "cell_type": "code",
   "execution_count": 98,
   "metadata": {},
   "outputs": [],
   "source": [
    "class No_aux_losses(nn.Module):\n",
    "    def __init__(self, nb_hidden):\n",
    "        super(No_aux_losses, self).__init__()\n",
    "        self.conv1 = nn.Conv2d(1*2, 32*2, kernel_size=5)\n",
    "        self.conv2 = nn.Conv2d(32*2, 64*2, kernel_size=5)\n",
    "        self.fcA1 = nn.Linear(1024*2, nb_hidden*2)\n",
    "        self.fcA2 = nn.Linear(nb_hidden*2, 2*10)\n",
    "        self.fcB1 = nn.Linear(20, 100)\n",
    "        self.fcB2 = nn.Linear(100,200)\n",
    "        self.fcB3 = nn.Linear(200, 2)\n",
    "\n",
    "    def forward(self, x):\n",
    "        x = F.relu(F.max_pool2d(self.conv1(x), kernel_size=2, stride=1))\n",
    "        x = F.relu(F.max_pool2d(self.conv2(x), kernel_size=2, stride=1))\n",
    "        x = F.relu(self.fcA1(x.view(-1, 1024*2)))\n",
    "        x = self.fcA2(x)\n",
    "        x = F.relu(self.fcB1(x))\n",
    "        x = F.relu(self.fcB2(x))\n",
    "        x = self.fcB3(x)\n",
    "        return x    \n",
    "    \n",
    "def train_model_no_aux_losses(model, train_input, train_target, epochs=25, \\\n",
    "                mini_batch_size=100, lr=1e-3, criterion=None, optimizer=None, verbose=2, return_rate=False):\n",
    "    \n",
    "    print('Training network with no auxiliary losses')\n",
    "    \n",
    "    # use MSE loss by default\n",
    "    if not criterion:\n",
    "        criterion = nn.MSELoss()\n",
    "    \n",
    "    # use SGD by default\n",
    "    if not optimizer:\n",
    "        optimizer = optim.SGD(model.parameters(), lr = lr)\n",
    "\n",
    "    if return_rate:\n",
    "        nb_error = torch.zeros(epochs)\n",
    "        loss_list = torch.zeros(epochs)\n",
    "    \n",
    "    for e in range(epochs):\n",
    "        sum_loss = 0\n",
    "        for b in range(0, train_input.size(0), mini_batch_size):\n",
    "            output = model(train_input.narrow(0, b, mini_batch_size))\n",
    "            \n",
    "            #print(train_input.narrow(0, b, mini_batch_size).size())\n",
    "            #print(output.size())\n",
    "            #print(train_target.narrow(0, b, mini_batch_size).size())\n",
    "            \n",
    "            loss = criterion(output, train_target.narrow(0, b, mini_batch_size))\n",
    "            model.zero_grad()\n",
    "            loss.backward()\n",
    "            sum_loss = sum_loss + loss.item()\n",
    "            with torch.no_grad():\n",
    "                optimizer.step()\n",
    "                \n",
    "            if return_rate:\n",
    "                nb_error[e] = compute_nb_errors(model, train_input, train_target)\n",
    "                loss_list[e] = sum_loss\n",
    "                \n",
    "            #for p in model.parameters():\n",
    "            #    p.data.sub_(lr * p.grad.data)\n",
    "        \n",
    "        if verbose == 0: print('Epoch: {}, loss: {:0.2f}'.format(e, sum_loss))\n",
    "        elif verbose == 1 and e%5 == 0: print(e, sum_loss)\n",
    "            \n",
    "    if return_rate:\n",
    "        return((nb_error.view(-1), loss_list.view(-1)))"
   ]
  },
  {
   "cell_type": "code",
   "execution_count": 94,
   "metadata": {},
   "outputs": [
    {
     "name": "stdout",
     "output_type": "stream",
     "text": [
      "Training network with no auxiliary losses\n",
      "0 4.590281188488007\n",
      "454\n",
      "463\n"
     ]
    }
   ],
   "source": [
    "model_no_aux_losses = No_aux_losses(200)\n",
    "train_model_no_aux_losses(model_no_aux_losses, train_input, train_target_one_hot, verbose=1,\\\n",
    "                          epochs = 4)\n",
    "\n",
    "out = model_no_aux_losses(test_input)\n",
    "\n",
    "print(compute_nb_errors(model_no_aux_losses, train_input, train_target))\n",
    "print(compute_nb_errors(model_no_aux_losses, test_input, test_target))"
   ]
  },
  {
   "cell_type": "code",
   "execution_count": 61,
   "metadata": {},
   "outputs": [],
   "source": [
    "#print(model_no_aux_losses.fcA1.weight)\n",
    "#print(model_no_aux_losses.fcA1.bias)"
   ]
  },
  {
   "cell_type": "code",
   "execution_count": null,
   "metadata": {},
   "outputs": [],
   "source": []
  },
  {
   "cell_type": "code",
   "execution_count": 99,
   "metadata": {},
   "outputs": [
    {
     "name": "stdout",
     "output_type": "stream",
     "text": [
      "Training network with no auxiliary losses\n",
      "0 4.731936812400818\n"
     ]
    }
   ],
   "source": [
    "model_no_aux_losses = No_aux_losses(200)\n",
    "nb_error, loss_list = train_model_no_aux_losses(model_no_aux_losses, train_input, train_target_one_hot, verbose=1,\\\n",
    "                                    epochs = 4, return_rate=True)\n",
    "\n"
   ]
  },
  {
   "cell_type": "code",
   "execution_count": 104,
   "metadata": {},
   "outputs": [
    {
     "data": {
      "image/png": "[encoded data removed]",
      "text/plain": [
       "<Figure size 432x288 with 2 Axes>"
      ]
     },
     "metadata": {
      "needs_background": "light"
     },
     "output_type": "display_data"
    }
   ],
   "source": [
    "##Plot kinda nicely\n",
    "\n",
    "plt.figure(1)\n",
    "plt.subplot(1,2,1)\n",
    "plt.xlabel(\"epochs\")\n",
    "plt.title(\"Loss function\")\n",
    "plt.plot(np.arange(0,loss_list.size(0)) , loss_list.numpy())\n",
    "plt.subplot(1,2,2)\n",
    "plt.plot(np.arange(0,nb_error.size(0)) , nb_error.numpy())\n",
    "plt.xlabel(\"epochs\")\n",
    "plt.title(\"Number of train of errors\")\n",
    "plt.show()\n",
    "\n",
    "\n"
   ]
  },
  {
   "cell_type": "code",
   "execution_count": 101,
   "metadata": {},
   "outputs": [
    {
     "data": {
      "text/plain": [
       "torch.Size([4])"
      ]
     },
     "execution_count": 101,
     "metadata": {},
     "output_type": "execute_result"
    }
   ],
   "source": [
    "nb_error.size()"
   ]
  },
  {
   "cell_type": "markdown",
   "metadata": {},
   "source": [
    "## Test structure with cross-validation"
   ]
  },
  {
   "cell_type": "code",
   "execution_count": 130,
   "metadata": {},
   "outputs": [
    {
     "name": "stdout",
     "output_type": "stream",
     "text": [
      "Training network with no auxiliary losses\n",
      "0 4.843724548816681\n",
      "Training network with no auxiliary losses\n",
      "0 5.215992093086243\n"
     ]
    },
    {
     "name": "stderr",
     "output_type": "stream",
     "text": [
      "/home/sami/anaconda3/lib/python3.7/site-packages/matplotlib/cbook/deprecation.py:107: MatplotlibDeprecationWarning: Adding an axes using the same arguments as a previous axes currently reuses the earlier instance.  In a future version, a new instance will always be created and returned.  Meanwhile, this warning can be suppressed, and the future behavior ensured, by passing a unique label to each axes instance.\n",
      "  warnings.warn(message, mplDeprecation, stacklevel=1)\n"
     ]
    },
    {
     "name": "stdout",
     "output_type": "stream",
     "text": [
      "Training network with no auxiliary losses\n",
      "0 4.764333754777908\n",
      "Training network with no auxiliary losses\n",
      "0 4.981136649847031\n",
      "Training network with no auxiliary losses\n",
      "0 5.3682990074157715\n",
      "Training network with no auxiliary losses\n",
      "0 4.520355820655823\n",
      "Training network with no auxiliary losses\n",
      "0 4.60198113322258\n",
      "Training network with no auxiliary losses\n",
      "0 3.9398039877414703\n",
      "Training network with no auxiliary losses\n",
      "0 4.516496121883392\n",
      "Training network with no auxiliary losses\n",
      "0 5.30819046497345\n"
     ]
    },
    {
     "data": {
      "image/png": "[encoded data removed]",
      "text/plain": [
       "<Figure size 432x288 with 2 Axes>"
      ]
     },
     "metadata": {
      "needs_background": "light"
     },
     "output_type": "display_data"
    }
   ],
   "source": [
    "number_of_test = 10\n",
    "N = 1000 #num\n",
    "valid_length = int(N/number_of_test)\n",
    "epochs = 4\n",
    "\n",
    "nb_error_list = torch.zeros(number_of_test, epochs)\n",
    "loss_list = torch.zeros(number_of_test, epochs)\n",
    "\n",
    "train_input, train_target, train_classes, test_input, test_target, test_classes = import_data(N, True)\n",
    "train_target_one_hot = make_one_hot(train_target)\n",
    "test_target_one_hot = make_one_hot(test_target)\n",
    "train_classes_one_hot = make_one_hot(train_classes[:,0])\n",
    "test_classes_one_hot = make_one_hot(test_classes[:,0])\n",
    "\n",
    "for test in range(0,number_of_test):\n",
    "    model_no_aux_losses = No_aux_losses(200)\n",
    "    \n",
    "    train_input_i = torch.cat( (train_input[0:test*valid_length,:,:,:] ,train_input[(test+1)*valid_length:,:,:,:]) ,0)\n",
    "    valid_input_i = train_input[test*valid_length:(test+1)*valid_length,:,:,:]\n",
    "    train_target_i = torch.cat( (train_target_one_hot[0:test*valid_length,:] ,train_target_one_hot[(test+1)*valid_length:,:]) ,0)\n",
    "    valid_target_i = train_target_one_hot[test*valid_length:(test+1)*valid_length,:]\n",
    "    \n",
    "    nb_error_list[test, :], loss_list[test, :] = train_model_no_aux_losses(model_no_aux_losses, train_input, train_target_one_hot, verbose=1,\\\n",
    "                                    epochs=epochs, return_rate=True)\n",
    "    plt.figure(1)\n",
    "    plt.subplot(1,2,1)\n",
    "    plt.xlabel(\"epochs\")\n",
    "    plt.title(\"Loss function\")\n",
    "    plt.plot(np.arange(0,loss_list.size(1)) , loss_list[test,:].numpy())\n",
    "    plt.subplot(1,2,2)\n",
    "    plt.plot(np.arange(0,nb_error_list.size(1)) , nb_error_list[test,:].numpy())\n",
    "    plt.xlabel(\"epochs\")\n",
    "    plt.title(\"Number of train of errors\")\n",
    "    \n",
    "    \n",
    "    \n",
    "plt.show()\n",
    "\n"
   ]
  },
  {
   "cell_type": "code",
   "execution_count": 129,
   "metadata": {},
   "outputs": [
    {
     "data": {
      "image/png": "[encoded data removed]",
      "text/plain": [
       "<Figure size 432x288 with 2 Axes>"
      ]
     },
     "metadata": {
      "needs_background": "light"
     },
     "output_type": "display_data"
    }
   ],
   "source": [
    "\n",
    "plt.figure\n",
    "plt.subplot(1,2,1)\n",
    "plt.plot(np.arange(0,loss_list.size(1)) , loss_list.mean(0).numpy(), color='blue')\n",
    "plt.fill_between(np.arange(0,loss_list.size(1)) , loss_list.mean(0).numpy()+loss_list.std(0).numpy(), loss_list.mean(0).numpy()-loss_list.std(0).numpy(), facecolor='blue', alpha=0.5)\n",
    "plt.xlabel(\"epochs\")\n",
    "plt.title(\"Loss function\")\n",
    "\n",
    "plt.subplot(1,2,2)\n",
    "plt.plot(np.arange(0,nb_error_list.size(1)) , nb_error_list.mean(0).numpy(),color='yellow')\n",
    "plt.fill_between(np.arange(0,nb_error_list.size(1)) , nb_error_list.mean(0).numpy()+nb_error_list.std(0).numpy(), nb_error_list.mean(0).numpy()-nb_error_list.std(0).numpy(), facecolor='yellow', alpha=0.3)\n",
    "plt.xlabel(\"epochs\")\n",
    "plt.title(\"Loss function\")\n",
    "plt.show()"
   ]
  },
  {
   "cell_type": "code",
   "execution_count": 107,
   "metadata": {},
   "outputs": [
    {
     "name": "stdout",
     "output_type": "stream",
     "text": [
      "tensor([[1, 2],\n",
      "        [3, 5],\n",
      "        [1, 2],\n",
      "        [3, 5]])\n"
     ]
    }
   ],
   "source": [
    "A = torch.tensor([[1,2],[3,5]])\n",
    "print(torch.cat((A,A),0))"
   ]
  },
  {
   "cell_type": "code",
   "execution_count": null,
   "metadata": {},
   "outputs": [],
   "source": []
  }
 ],
 "metadata": {
  "kernelspec": {
   "display_name": "Python 3",
   "language": "python",
   "name": "python3"
  },
  "language_info": {
   "codemirror_mode": {
    "name": "ipython",
    "version": 3
   },
   "file_extension": ".py",
   "mimetype": "text/x-python",
   "name": "python",
   "nbconvert_exporter": "python",
   "pygments_lexer": "ipython3",
   "version": "3.7.2"
  }
 },
 "nbformat": 4,
 "nbformat_minor": 2
}
