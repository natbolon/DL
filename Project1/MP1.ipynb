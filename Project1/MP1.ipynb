{
 "cells": [
  {
   "cell_type": "markdown",
   "metadata": {},
   "source": [
    "# MINIPROJECT 1\n",
    "\n",
    "## Classification, weight sharing, auxiliary losses\n",
    "\n",
    "\n",
    "The objective of this project is to test different architectures to compare two digits visible in a two-channel image. It aims at showing in particular the impact of weight sharing, and of the use of an auxiliary loss to help the training of the main objective."
   ]
  },
  {
   "cell_type": "markdown",
   "metadata": {},
   "source": [
    "### 0. Import libraries"
   ]
  },
  {
   "cell_type": "code",
   "execution_count": 1,
   "metadata": {},
   "outputs": [],
   "source": [
    "import torch\n",
    "from torch.autograd import Variable\n",
    "from torch import nn, optim\n",
    "from torch.nn import functional as F\n",
    "\n",
    "from dlc_practical_prologue import generate_pair_sets"
   ]
  },
  {
   "cell_type": "markdown",
   "metadata": {},
   "source": [
    "### 1. Generate data"
   ]
  },
  {
   "cell_type": "code",
   "execution_count": 2,
   "metadata": {},
   "outputs": [],
   "source": [
    "train_input, train_target, train_classes, test_input, test_target, test_classes = generate_pair_sets(1000)\n",
    "\n",
    "def normalize_data(train_input, test_input):\n",
    "    mu, std = train_input.mean(), train_input.std()\n",
    "    train_input.sub_(mu).div_(std)\n",
    "    test_input.sub_(mu).div_(std)\n",
    "    \n",
    "def to_one_hot(tensor):\n",
    "    one_hot = torch.zeros((tensor.size(0), 10)).type(torch.FloatTensor)\n",
    "    one_hot[list(range(0,tensor.size(0))), tensor[:,0]] = 1\n",
    "    return one_hot\n",
    "\n",
    "train_input = train_input.reshape((train_input.size(0)*2, 1, train_input.size(2), train_input.size(3)))\n",
    "train_classes_r = train_classes.reshape((train_classes.size(0)*2, 1))\n",
    "test_input = test_input.reshape((test_input.size(0)*2, 1, test_input.size(2), test_input.size(3)))\n",
    "test_classes_r = test_classes.reshape((test_classes.size(0)*2, 1))\n",
    "\n",
    "train_classes_one_hot = to_one_hot(train_classes_r)\n",
    "test_classes_one_hot = to_one_hot(test_classes_r)\n",
    "\n",
    "#train_target = train_target.type(torch.FloatTensor)\n",
    "#test_target = test_target.type(torch.FloatTensor)\n",
    "\n",
    "train_target_bin = torch.zeros((train_target.size(0), 2))\n",
    "train_target_bin[list(range(train_target.size(0))), train_target[:]] = 1\n",
    "\n",
    "test_target_bin = torch.zeros((test_target.size(0), 2))\n",
    "test_target_bin[list(range(test_target.size(0))), test_target[:]] = 1\n",
    "\n",
    "normalize_data(train_input, test_input)"
   ]
  },
  {
   "cell_type": "code",
   "execution_count": 3,
   "metadata": {},
   "outputs": [],
   "source": [
    "import random\n",
    "import matplotlib.pyplot as plt"
   ]
  },
  {
   "cell_type": "code",
   "execution_count": 4,
   "metadata": {},
   "outputs": [
    {
     "name": "stdout",
     "output_type": "stream",
     "text": [
      "tensor([4, 2])\n",
      "Target: 0\n",
      "tensor([1, 1])\n",
      "Target: 1\n",
      "tensor([8, 7])\n",
      "Target: 0\n",
      "tensor([3, 3])\n",
      "Target: 1\n"
     ]
    },
    {
     "data": {
      "image/png": "[encoded data removed]",
      "text/plain": [
       "<Figure size 360x864 with 8 Axes>"
      ]
     },
     "metadata": {
      "needs_background": "light"
     },
     "output_type": "display_data"
    }
   ],
   "source": [
    "fig, ax = plt.subplots(4, 2, figsize=(5,12))\n",
    "ax = ax.flatten()\n",
    "for i in range(4):\n",
    "    r = int(1000*random.random())\n",
    "    test_i, test_c, test_t = train_input[r*2:r*2+2], train_classes[r], train_target[r]\n",
    "    print(test_c)\n",
    "    print('Target: {}'.format(test_t.item()) )\n",
    "    \n",
    "    ax[i*2].imshow(test_i[0][0], cmap=\"gray\")\n",
    "    ax[i*2].set_title('Value: {}'.format(test_c[0].item()))\n",
    "    ax[i*2+1].imshow(test_i[1][0], cmap=\"gray\")\n",
    "    ax[i*2+1].set_title('Value: {}'.format(test_c[1].item()))\n",
    "plt.show()\n",
    "\n"
   ]
  },
  {
   "cell_type": "markdown",
   "metadata": {},
   "source": [
    "### 2. Define train function and other auxiliary functions that can be necessary\n"
   ]
  },
  {
   "cell_type": "code",
   "execution_count": 18,
   "metadata": {},
   "outputs": [],
   "source": [
    "# Define training function for convolutional model\n",
    "def train_model_conv(model, train_input, train_target, epochs=25, \\\n",
    "                mini_batch_size=200, lr=1e-3, criterion=None, optimizer=None, verbose=2):\n",
    "    \n",
    "    print('Training Conv Net')\n",
    "    \n",
    "    # use MSE loss by default\n",
    "    if not criterion:\n",
    "        criterion = nn.MSELoss()\n",
    "        \n",
    "    # use SGD by default\n",
    "    if not optimizer:\n",
    "        optimizer = optim.SGD(model.parameters(), lr = lr)\n",
    "\n",
    "    \n",
    "    for e in range(epochs):\n",
    "        sum_loss = 0\n",
    "        for b in range(0, train_input.size(0), mini_batch_size):\n",
    "            output = model(train_input.narrow(0, b, mini_batch_size))\n",
    "            loss = criterion(output, train_target.narrow(0, b, mini_batch_size))\n",
    "            model.zero_grad()\n",
    "            loss.backward()\n",
    "            sum_loss = sum_loss + loss.item()\n",
    "            optimizer.step()\n",
    "            #for p in model.parameters():\n",
    "            #    p.data.sub_(lr * p.grad.data)\n",
    "        \n",
    "        if verbose == 0: print('Epoch: {}, loss: {:0.2f}'.format(e, sum_loss))\n",
    "        elif verbose == 1 and e%5 == 0: print(e, sum_loss)\n",
    "            \n",
    "\n",
    "# Define training for fully connected model\n",
    "def train_model_fc(model, train_input, train_target, epochs=25, \\\n",
    "                mini_batch_size=200, lr=1e-3, criterion=None, optimizer=None, verbose=2):\n",
    "    print('Training Fully connected net')\n",
    "    \n",
    "    # use MSE loss by default\n",
    "    if not criterion:\n",
    "        criterion = nn.MSELoss()\n",
    "        \n",
    "    # use SGD by default\n",
    "    if not optimizer:\n",
    "        optimizer = optim.SGD(model.parameters(), lr = lr)\n",
    "\n",
    "    \n",
    "    for e in range(epochs):\n",
    "        sum_loss = 0\n",
    "        for b in range(0, train_input.size(0), mini_batch_size):\n",
    "            output = model(train_input.narrow(0, b, mini_batch_size))\n",
    "            loss = criterion(output, train_target.narrow(0, b, mini_batch_size))\n",
    "            model.zero_grad()\n",
    "            loss.backward(retain_graph=True)\n",
    "            sum_loss = sum_loss + loss.item()\n",
    "            optimizer.step()\n",
    "            #for p in model.parameters():\n",
    "            #    p.data.sub_(lr * p.grad.data)\n",
    "        \n",
    "        if verbose == 0: print('Epoch: {}, loss: {:0.2f}'.format(e, sum_loss))\n",
    "        elif verbose == 1 and e%5 == 0: print(e, sum_loss)\n",
    "            \n",
    "\n",
    "# Define model for composed model            \n",
    "def train_model_all(model, train_input, train_classes, train_target, epochs=25, \\\n",
    "                mini_batch_size=100, lr=1e-3, criterion1=None, criterion2=None, optimizer=None, verbose=2):\n",
    "    \n",
    "    print('Training Composed model')\n",
    "    \n",
    "    # use MSE loss by default\n",
    "    if not criterion1:\n",
    "        criterion1 = nn.MSELoss()\n",
    "    if not criterion2:\n",
    "        criterion2 = nn.MSELoss()\n",
    "        \n",
    "    # use SGD by default\n",
    "    if not optimizer:\n",
    "        optimizer = optim.SGD(model.parameters(), lr = lr)\n",
    "\n",
    "    \n",
    "    for e in range(epochs):\n",
    "        sum_loss = 0\n",
    "        \n",
    "        for b in range(0, train_target.size(0), mini_batch_size):\n",
    "            output_classes, output_final = model(train_input.narrow(0, b*2, mini_batch_size*2))\n",
    "            loss1 = criterion1(output_classes, train_classes.narrow(0, b*2, mini_batch_size*2))\n",
    "            loss2 = criterion2(output_final, train_target.narrow(0, b, mini_batch_size))\n",
    "            loss = loss1 + loss2\n",
    "            model.zero_grad()\n",
    "            loss.backward(retain_graph=True)\n",
    "            sum_loss = sum_loss + loss.item()\n",
    "            optimizer.step()\n",
    "            #for p in model.parameters():\n",
    "            #    p.data.sub_(lr * p.grad.data)\n",
    "        \n",
    "        if verbose == 0: print('Epoch: {}, loss: {:0.2f}'.format(e, sum_loss))\n",
    "        elif verbose == 1 and e%5 == 0: print(e, sum_loss)\n",
    "    \n",
    "            \n",
    "\n",
    "\n",
    "def compute_nb_errors(model, input, target, mini_batch_size=100):\n",
    "    errors = 0\n",
    "\n",
    "    for b in range(0, input.size(0), mini_batch_size):\n",
    "        output = model(input.narrow(0, b, mini_batch_size))\n",
    "        _, predicted_classes = output.data.max(1)\n",
    "        \n",
    "        for k in range(mini_batch_size):\n",
    "            if target.data[b + k, predicted_classes[k]] <= 0:\n",
    "                errors = errors + 1\n",
    "    return errors\n",
    "\n",
    "\n",
    "    \n"
   ]
  },
  {
   "cell_type": "code",
   "execution_count": 6,
   "metadata": {},
   "outputs": [],
   "source": [
    "\n",
    "class Net_Conv(nn.Module):\n",
    "    def __init__(self, nb_hidden):\n",
    "        super(Net_Conv, self).__init__()\n",
    "        self.conv1 = nn.Conv2d(1, 32, kernel_size=5)\n",
    "        self.conv2 = nn.Conv2d(32, 64, kernel_size=5)\n",
    "        self.fc1 = nn.Linear(256, nb_hidden)\n",
    "        self.fc2 = nn.Linear(nb_hidden, 10)\n",
    "\n",
    "    def forward(self, x):\n",
    "        x = F.relu(F.max_pool2d(self.conv1(x), kernel_size=2, stride=1))\n",
    "        x = F.relu(F.max_pool2d(self.conv2(x), kernel_size=2, stride=2))\n",
    "        x = F.relu(self.fc1(x.view(-1, 256)))\n",
    "        x = self.fc2(x)\n",
    "        return x    \n",
    "    \n",
    "\n",
    "class Net_Full(nn.Module):\n",
    "    def __init__(self):\n",
    "        super(Net_Full, self).__init__()\n",
    "        self.fc1 = nn.Linear(20, 100)\n",
    "        self.fc2 = nn.Linear(100,200)\n",
    "        self.fc3 = nn.Linear(200, 2)\n",
    "    \n",
    "    def forward(self,x):\n",
    "        x = F.relu(self.fc1(x))\n",
    "        x = F.relu(self.fc2(x))\n",
    "        x = self.fc3(x)\n",
    "        return x\n",
    "    \n",
    "class Net_All(nn.Module):\n",
    "    def __init__(self, nb_h1, nb_h2, nb_h4, nb_h5):\n",
    "        super(Net_All, self).__init__()\n",
    "        self.conv1 = nn.Conv2d(1,nb_h1, kernel_size=5)\n",
    "        self.conv2 = nn.Conv2d(nb_h1, nb_h2, kernel_size=3)\n",
    "        self.conv3 = nn.Conv2d(nb_h2, 32, kernel_size=1)\n",
    "        self.fc1 = nn.Linear(32*6*6, nb_h4)\n",
    "        self.fc2 = nn.Linear(nb_h4, 10)\n",
    "        self.fc3 = nn.Linear(20, nb_h5)\n",
    "        self.fc4 = nn.Linear(nb_h5,2)\n",
    "    \n",
    "    def forward(self,x):\n",
    "        x = F.relu(F.max_pool2d(self.conv1(x), kernel_size=2, stride=1))\n",
    "        x = F.relu(F.max_pool2d(self.conv2(x), kernel_size=2, stride=1))\n",
    "        x = F.relu(self.conv3(x))\n",
    "        x = F.relu(self.fc1(x.view(-1, (32*6*6))))\n",
    "        x_classes = F.relu(self.fc2(x))\n",
    "        x_out = F.relu(self.fc3(x_classes.view(-1, 20)))\n",
    "        x_out = self.fc4(x_out)\n",
    "        return x_classes, x_out"
   ]
  },
  {
   "cell_type": "markdown",
   "metadata": {},
   "source": [
    "### 3. Generate MLP 1 - with aux loss\n"
   ]
  },
  {
   "cell_type": "code",
   "execution_count": 7,
   "metadata": {},
   "outputs": [
    {
     "name": "stdout",
     "output_type": "stream",
     "text": [
      "torch.Size([2000, 1, 14, 14]) torch.Size([1000, 2]) torch.Size([2000, 10])\n",
      "torch.Size([2000, 1, 14, 14]) torch.Size([1000, 2]) torch.Size([2000, 10])\n"
     ]
    }
   ],
   "source": [
    "train_input, train_target_bin, train_classes_one_hot = Variable(train_input), Variable(train_target_bin), Variable(train_classes_one_hot)\n",
    "test_input, test_target_bin, test_classes_one_hot = Variable(test_input), Variable(test_target_bin), Variable(test_classes_one_hot)\n",
    "print(train_input.shape, train_target_bin.shape, train_classes_one_hot.shape)\n",
    "print(test_input.shape, test_target_bin.shape, test_classes_one_hot.shape)"
   ]
  },
  {
   "cell_type": "code",
   "execution_count": 24,
   "metadata": {},
   "outputs": [
    {
     "name": "stdout",
     "output_type": "stream",
     "text": [
      "Training Conv Net\n",
      "Training Fully connected net\n",
      "test error Net 7.00% 72/1000\n",
      "Training Conv Net\n",
      "Training Fully connected net\n",
      "test error Net 7.00% 70/1000\n",
      "Training Conv Net\n",
      "Training Fully connected net\n",
      "test error Net 8.00% 85/1000\n",
      "Training Conv Net\n",
      "Training Fully connected net\n",
      "test error Net 7.00% 70/1000\n",
      "Training Conv Net\n",
      "Training Fully connected net\n",
      "test error Net 7.00% 78/1000\n",
      "Training Conv Net\n",
      "Training Fully connected net\n",
      "test error Net 7.00% 79/1000\n",
      "Training Conv Net\n",
      "Training Fully connected net\n",
      "test error Net 6.00% 68/1000\n",
      "Training Conv Net\n",
      "Training Fully connected net\n",
      "test error Net 6.00% 62/1000\n",
      "Training Conv Net\n",
      "Training Fully connected net\n",
      "test error Net 7.00% 77/1000\n",
      "Training Conv Net\n",
      "Training Fully connected net\n",
      "test error Net 8.00% 87/1000\n",
      "Test error mu: 7.00% \n"
     ]
    }
   ],
   "source": [
    "nb_error_test = []\n",
    "for k in range(10):\n",
    "    model1 = Net_Conv(200)\n",
    "    model2 = Net_Full()\n",
    "    train_model_conv(model1, train_input, train_classes_one_hot, lr=1, verbose=2)\n",
    "    train_model_fc(model2, train_classes_one_hot.view(1000,20), train_target_bin, lr=5e-1, verbose=2)\n",
    "    \n",
    "    out = model2(model1(test_input).view(1000, 20))\n",
    "    _, argm = out.max(1)\n",
    "    nb_test_errors = 1000 - (argm == test_target).sum(0)\n",
    "    nb_error_test.append(100.0*nb_test_errors/test_target.size(0))\n",
    "    \n",
    "    #nb_test_errors_n1 = compute_nb_errors(model1, test_input, test_classes_one_hot)\n",
    "    #nb_error_test += nb_test_errors_n1\n",
    "    print('test error Net {:0.2f}% {:d}/{:d}'.format((100 * nb_test_errors) / test_target.size(0),\n",
    "                                                      nb_test_errors, test_target.size(0)))\n",
    "\n",
    "print('Test error mu: {:0.2f}% '.format(sum(nb_error_test)/len(nb_error_test)))\n"
   ]
  },
  {
   "cell_type": "markdown",
   "metadata": {},
   "source": [
    "## IMPORTANT::\n",
    "\n",
    "THERE IS SOMETHING WRONG AS THE OUTPUT TARGET DOES NOT MATCH THE REALITY!!! (CHECK VISUALIZATION PART)\n",
    "CHECK HOW TO ITERATE OVER TARGET AND INPUTS AS DIMENSIONS ARE NOT THE SAME!!!\n",
    "\n",
    "-- UPDATE (7.04.19 - ) seems to be fixed although target and classes do not always make sense (saying 3 > 9) in the test set"
   ]
  },
  {
   "cell_type": "code",
   "execution_count": 20,
   "metadata": {},
   "outputs": [
    {
     "name": "stdout",
     "output_type": "stream",
     "text": [
      "Training Composed model\n",
      "test error Net 10.00% 109/1000\n",
      "Training Composed model\n",
      "test error Net 9.00% 98/1000\n",
      "Training Composed model\n",
      "test error Net 12.00% 127/1000\n",
      "Training Composed model\n",
      "test error Net 9.00% 91/1000\n",
      "Training Composed model\n",
      "test error Net 8.00% 86/1000\n",
      "Training Composed model\n",
      "test error Net 11.00% 112/1000\n",
      "Training Composed model\n",
      "test error Net 8.00% 85/1000\n",
      "Training Composed model\n",
      "test error Net 11.00% 114/1000\n",
      "Training Composed model\n",
      "test error Net 10.00% 109/1000\n",
      "Training Composed model\n",
      "test error Net 9.00% 93/1000\n",
      "Test error mu: 9.00% \n"
     ]
    }
   ],
   "source": [
    "nb_error_test = []\n",
    "for k in range(10):\n",
    "    model = Net_All(32, 64, 50, 100)\n",
    "    train_model_all(model, train_input, train_classes_one_hot, train_target_bin, lr=0.5)\n",
    "    \n",
    "    out_class, out_target = model(test_input)\n",
    "    _, argmax_class = out_class.max(1)\n",
    "    _, argmax_target = out_target.max(1)\n",
    "    nb_test_errors = 1000 - (argmax_target == test_target).sum(0)\n",
    "    nb_error_test.append(100.0*nb_test_errors/test_target.size(0))\n",
    "    \n",
    "    #nb_test_errors_n1 = compute_nb_errors(model1, test_input, test_classes_one_hot)\n",
    "    #nb_error_test += nb_test_errors_n1\n",
    "    print('test error Net {:0.2f}% {:d}/{:d}'.format((100 * nb_test_errors) / test_target.size(0),\n",
    "                                                      nb_test_errors, test_target.size(0)))\n",
    "\n",
    "print('Test error mu: {:0.2f}% '.format(sum(nb_error_test)/len(nb_error_test)))"
   ]
  },
  {
   "cell_type": "markdown",
   "metadata": {},
   "source": [
    "## Visualize results"
   ]
  },
  {
   "cell_type": "code",
   "execution_count": 23,
   "metadata": {},
   "outputs": [
    {
     "name": "stdout",
     "output_type": "stream",
     "text": [
      "Target: 1, Output : 1\n",
      "Target: 1, Output : 1\n",
      "Target: 1, Output : 1\n",
      "Target: 0, Output : 0\n"
     ]
    },
    {
     "data": {
      "image/png": "[encoded data removed]",
      "text/plain": [
       "<Figure size 360x864 with 8 Axes>"
      ]
     },
     "metadata": {
      "needs_background": "light"
     },
     "output_type": "display_data"
    }
   ],
   "source": [
    "fig, ax = plt.subplots(4, 2, figsize=(5,12))\n",
    "ax = ax.flatten()\n",
    "for i in range(4):\n",
    "    r = int(1000*random.random())\n",
    "    test_i, test_c, test_t = test_input[r*2:r*2+2], test_classes[r], test_target[r]\n",
    "    out_c, out_t = model(test_i)\n",
    "    _, pred_c = out_c.max(1)\n",
    "    _, pred = out_t.max(1)\n",
    "    print('Target: {}, Output : {}'.format(test_t.item(), pred.item()) )\n",
    "    \n",
    "    ax[i*2].imshow(test_i[0][0], cmap=\"gray\")\n",
    "    ax[i*2].set_title('Value: {} Predicted: {}'.format(test_c[0].item(), pred_c[0].item()))\n",
    "    ax[i*2+1].imshow(test_i[1][0], cmap=\"gray\")\n",
    "    ax[i*2+1].set_title('Value: {} Predicted: {}'.format(test_c[1].item(), pred_c[1].item()))\n",
    "plt.show()\n"
   ]
  },
  {
   "cell_type": "markdown",
   "metadata": {},
   "source": [
    "### 4. Generate ConvNet 1 - with aux loss "
   ]
  },
  {
   "cell_type": "markdown",
   "metadata": {},
   "source": [
    "### 5. Generate MLP 2 - without aux loss"
   ]
  },
  {
   "cell_type": "markdown",
   "metadata": {},
   "source": [
    "### 6. Generate ConvNet 2 - without aux loss "
   ]
  },
  {
   "cell_type": "code",
   "execution_count": 11,
   "metadata": {},
   "outputs": [],
   "source": [
    "### 7. Generate "
   ]
  }
 ],
 "metadata": {
  "kernelspec": {
   "display_name": "Python 3",
   "language": "python",
   "name": "python3"
  },
  "language_info": {
   "codemirror_mode": {
    "name": "ipython",
    "version": 3
   },
   "file_extension": ".py",
   "mimetype": "text/x-python",
   "name": "python",
   "nbconvert_exporter": "python",
   "pygments_lexer": "ipython3",
   "version": "3.7.2"
  }
 },
 "nbformat": 4,
 "nbformat_minor": 2
}
